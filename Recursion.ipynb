{
 "cells": [
  {
   "cell_type": "code",
   "execution_count": null,
   "id": "b1925b1b",
   "metadata": {},
   "outputs": [],
   "source": []
  },
  {
   "cell_type": "code",
   "execution_count": null,
   "id": "eb5d5091",
   "metadata": {},
   "outputs": [],
   "source": []
  },
  {
   "cell_type": "markdown",
   "id": "a285ffcf",
   "metadata": {},
   "source": [
    "# 2. Given two strings word1 and word2, return the minimum number of operations required to convert word1 to word2.\n",
    "# Example 1:\n",
    "# Input: word1 = \"horse\", word2 = \"ros\"\n",
    "# Output: 3\n",
    "# Explanation:\n",
    "# horse -> rorse (replace 'h' with 'r')\n",
    "# rorse -> rose (remove 'r')\n",
    "# rose -> ros (remove 'e')\n",
    "# Example 2:\n",
    "# Input: word1 = \"intention\", word2 = \"execution\"\n",
    "# Output: 5\n",
    "# Explanation:\n",
    "# intention -> inention (remove 't')\n",
    "# inention -> enention (replace 'i' with 'e')\n",
    "# enention -> exention (replace 'n' with 'x')\n",
    "# exention -> exection (replace 'n' with 'c')\n",
    "# exection -> execution (insert 'u')"
   ]
  },
  {
   "cell_type": "code",
   "execution_count": null,
   "id": "880e4b5f",
   "metadata": {},
   "outputs": [],
   "source": [
    "public class EditDistance {\n",
    "    public static void main(String[] args) {\n",
    "        String word1 = \"horse\";\n",
    "        String word2 = \"ros\";\n",
    "        int result = minDistance(word1, word2);\n",
    "        System.out.println(\"Output: \" + result);\n",
    "\n",
    "        word1 = \"intention\";\n",
    "        word2 = \"execution\";\n",
    "        result = minDistance(word1, word2);\n",
    "        System.out.println(\"Output: \" + result);\n",
    "    }\n",
    "\n",
    "    public static int minDistance(String word1, String word2) {\n",
    "        int m = word1.length();\n",
    "        int n = word2.length();\n",
    "\n",
    "        // Create a matrix to store minimum distances\n",
    "        int[][] dp = new int[m + 1][n + 1];\n",
    "\n",
    "        // Initialize the matrix\n",
    "        for (int i = 0; i <= m; i++) {\n",
    "            for (int j = 0; j <= n; j++) {\n",
    "                if (i == 0) {\n",
    "                    dp[i][j] = j;  // Insert j characters to convert an empty string to word2\n",
    "                } else if (j == 0) {\n",
    "                    dp[i][j] = i;  // Remove i characters to convert word1 to an empty string\n",
    "                } else if (word1.charAt(i - 1) == word2.charAt(j - 1)) {\n",
    "                    dp[i][j] = dp[i - 1][j - 1];  // No operation needed if characters match\n",
    "                } else {\n",
    "                    dp[i][j] = 1 + Math.min(Math.min(dp[i - 1][j], dp[i][j - 1]), dp[i - 1][j - 1]);\n",
    "                    // 1 + min of (insert, remove, replace) operations\n",
    "                }\n",
    "            }\n",
    "        }\n",
    "\n",
    "        return dp[m][n];\n",
    "    }\n",
    "}\n"
   ]
  },
  {
   "cell_type": "markdown",
   "id": "798d5be6",
   "metadata": {},
   "source": [
    "# 3. Print the max value of the array [ 13, 1, -3, 22, 5]."
   ]
  },
  {
   "cell_type": "code",
   "execution_count": 2,
   "id": "b3576fc2",
   "metadata": {},
   "outputs": [
    {
     "name": "stdout",
     "output_type": "stream",
     "text": [
      "The maximum value in the array is: 22\n"
     ]
    }
   ],
   "source": [
    "arr = [13, 1, -3, 22, 5]\n",
    "max_value = max(arr)\n",
    "print(\"The maximum value in the array is:\", max_value)\n"
   ]
  },
  {
   "cell_type": "markdown",
   "id": "f26e1e78",
   "metadata": {},
   "source": [
    "# 4. Find the sum of the values of the array [92, 23, 15, -20, 10]."
   ]
  },
  {
   "cell_type": "code",
   "execution_count": 3,
   "id": "cba901fe",
   "metadata": {},
   "outputs": [
    {
     "name": "stdout",
     "output_type": "stream",
     "text": [
      "The sum of the values in the array is: 120\n"
     ]
    }
   ],
   "source": [
    "arr = [92, 23, 15, -20, 10]\n",
    "sum_values = sum(arr)\n",
    "print(\"The sum of the values in the array is:\", sum_values)\n"
   ]
  },
  {
   "cell_type": "markdown",
   "id": "beaab462",
   "metadata": {},
   "source": [
    "# 5. Given a number n. Print if it is an armstrong number or not.An armstrong number is a number if the sum of every digit in that number raised to the power of total digits in that number is equal to the number.\n",
    "# Example : 153 = 1^3 + 5^3 + 3^3 = 1 + 125 + 27 = 153 hence 153 is an armstrong number. (Easy)\n",
    "# Input1 : 153\n",
    "# Output1 : Yes\n",
    "# Input 2 : 134\n",
    "# Output2 : No"
   ]
  },
  {
   "cell_type": "code",
   "execution_count": 6,
   "id": "39f268d7",
   "metadata": {},
   "outputs": [
    {
     "name": "stdout",
     "output_type": "stream",
     "text": [
      "Input 1: 153, Output 1: Yes\n",
      "Input 2: 134, Output 2: No\n"
     ]
    }
   ],
   "source": [
    "def is_armstrong_number(n):\n",
    "    # Convert the number to a string to find the number of digits\n",
    "    num_str = str(n)\n",
    "    num_digits = len(num_str)\n",
    "\n",
    "    \n",
    "    armstrong_sum = sum(int(digit) ** num_digits for digit in num_str)\n",
    "\n",
    "    # Check if the sum is equal to the original number\n",
    "    return armstrong_sum == n\n",
    "\n",
    "\n",
    "input_1 = 153\n",
    "output_1 = is_armstrong_number(input_1)\n",
    "print(f\"Input 1: {input_1}, Output 1: {'Yes' if output_1 else 'No'}\")\n",
    "\n",
    "input_2 = 134\n",
    "output_2 = is_armstrong_number(input_2)\n",
    "print(f\"Input 2: {input_2}, Output 2: {'Yes' if output_2 else 'No'}\")\n"
   ]
  },
  {
   "cell_type": "code",
   "execution_count": null,
   "id": "139308dc",
   "metadata": {},
   "outputs": [],
   "source": []
  }
 ],
 "metadata": {
  "kernelspec": {
   "display_name": "Python 3 (ipykernel)",
   "language": "python",
   "name": "python3"
  },
  "language_info": {
   "codemirror_mode": {
    "name": "ipython",
    "version": 3
   },
   "file_extension": ".py",
   "mimetype": "text/x-python",
   "name": "python",
   "nbconvert_exporter": "python",
   "pygments_lexer": "ipython3",
   "version": "3.9.7"
  }
 },
 "nbformat": 4,
 "nbformat_minor": 5
}
